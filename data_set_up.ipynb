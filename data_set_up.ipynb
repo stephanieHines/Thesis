{
 "cells": [
  {
   "cell_type": "code",
   "execution_count": 2,
   "metadata": {},
   "outputs": [
    {
     "name": "stdout",
     "output_type": "stream",
     "text": [
      "Requirement already satisfied: pandas in c:\\users\\steph\\appdata\\local\\programs\\python\\python39\\lib\\site-packages (1.3.4)\n",
      "Requirement already satisfied: python-dateutil>=2.7.3 in c:\\users\\steph\\appdata\\roaming\\python\\python39\\site-packages (from pandas) (2.8.2)\n",
      "Requirement already satisfied: numpy>=1.17.3 in c:\\users\\steph\\appdata\\local\\programs\\python\\python39\\lib\\site-packages (from pandas) (1.21.4)\n",
      "Requirement already satisfied: pytz>=2017.3 in c:\\users\\steph\\appdata\\local\\programs\\python\\python39\\lib\\site-packages (from pandas) (2021.3)\n",
      "Requirement already satisfied: six>=1.5 in c:\\users\\steph\\appdata\\roaming\\python\\python39\\site-packages (from python-dateutil>=2.7.3->pandas) (1.16.0)\n",
      "Note: you may need to restart the kernel to use updated packages.\n"
     ]
    },
    {
     "name": "stderr",
     "output_type": "stream",
     "text": [
      "WARNING: You are using pip version 21.2.4; however, version 22.0.3 is available.\n",
      "You should consider upgrading via the 'C:\\Users\\steph\\AppData\\Local\\Programs\\Python\\Python39\\python.exe -m pip install --upgrade pip' command.\n"
     ]
    },
    {
     "name": "stdout",
     "output_type": "stream",
     "text": [
      "Requirement already satisfied: scikit-image in c:\\users\\steph\\appdata\\local\\programs\\python\\python39\\lib\\site-packages (0.19.0)\n",
      "Requirement already satisfied: PyWavelets>=1.1.1 in c:\\users\\steph\\appdata\\local\\programs\\python\\python39\\lib\\site-packages (from scikit-image) (1.2.0)\n",
      "Requirement already satisfied: networkx>=2.2 in c:\\users\\steph\\appdata\\local\\programs\\python\\python39\\lib\\site-packages (from scikit-image) (2.6.3)\n",
      "Requirement already satisfied: numpy>=1.17.0 in c:\\users\\steph\\appdata\\local\\programs\\python\\python39\\lib\\site-packages (from scikit-image) (1.21.4)\n",
      "Requirement already satisfied: scipy>=1.4.1 in c:\\users\\steph\\appdata\\local\\programs\\python\\python39\\lib\\site-packages (from scikit-image) (1.7.3)\n",
      "Requirement already satisfied: tifffile>=2019.7.26 in c:\\users\\steph\\appdata\\local\\programs\\python\\python39\\lib\\site-packages (from scikit-image) (2021.11.2)\n",
      "Requirement already satisfied: packaging>=20.0 in c:\\users\\steph\\appdata\\local\\programs\\python\\python39\\lib\\site-packages (from scikit-image) (21.3)\n",
      "Requirement already satisfied: pillow!=7.1.0,!=7.1.1,!=8.3.0,>=6.1.0 in c:\\users\\steph\\appdata\\local\\programs\\python\\python39\\lib\\site-packages (from scikit-image) (8.4.0)\n",
      "Requirement already satisfied: imageio>=2.4.1 in c:\\users\\steph\\appdata\\local\\programs\\python\\python39\\lib\\site-packages (from scikit-image) (2.13.3)\n",
      "Requirement already satisfied: pyparsing!=3.0.5,>=2.0.2 in c:\\users\\steph\\appdata\\local\\programs\\python\\python39\\lib\\site-packages (from packaging>=20.0->scikit-image) (3.0.6)\n",
      "Note: you may need to restart the kernel to use updated packages.\n"
     ]
    },
    {
     "name": "stderr",
     "output_type": "stream",
     "text": [
      "WARNING: You are using pip version 21.2.4; however, version 22.0.3 is available.\n",
      "You should consider upgrading via the 'C:\\Users\\steph\\AppData\\Local\\Programs\\Python\\Python39\\python.exe -m pip install --upgrade pip' command.\n"
     ]
    },
    {
     "data": {
      "text/plain": [
       "<matplotlib.pyplot._IonContext at 0x248611eb670>"
      ]
     },
     "execution_count": 2,
     "metadata": {},
     "output_type": "execute_result"
    }
   ],
   "source": [
    "from __future__ import print_function, division\n",
    "import os\n",
    "import torch\n",
    "%pip install pandas\n",
    "%pip install scikit-image\n",
    "import pandas as pd\n",
    "from skimage import io, transform\n",
    "import numpy as np\n",
    "import matplotlib.pyplot as plt\n",
    "from torch.utils.data import Dataset, DataLoader\n",
    "from torchvision import transforms, utils\n",
    "\n",
    "# Ignore warnings\n",
    "import warnings\n",
    "warnings.filterwarnings(\"ignore\")\n",
    "\n",
    "plt.ion()   # interactive mode"
   ]
  },
  {
   "cell_type": "code",
   "execution_count": 3,
   "metadata": {},
   "outputs": [
    {
     "name": "stdout",
     "output_type": "stream",
     "text": [
      "Image name: ['Amprite_sq.jpg', 'aphrodite_sq.jpg', 'athlete_square.jpg', 'Medium sized JPEG (10).jpg', 'Medium sized JPEG (12).jpg', 'Medium sized JPEG (13).jpg', 'Medium sized JPEG (4).jpg', 'Medium sized JPEG (7).jpg', 'Square_king.jpg', 'swans_square.jpg']\n"
     ]
    }
   ],
   "source": [
    "filelist = ['Amprite_sq.jpg','aphrodite_sq.jpg','athlete_square.jpg','Medium sized JPEG (10).jpg','Medium sized JPEG (12).jpg','Medium sized JPEG (13).jpg','Medium sized JPEG (4).jpg', 'Medium sized JPEG (7).jpg','Square_king.jpg','swans_square.jpg']\n",
    "fileinfo_frame = pd.read_csv('costumes.csv')\n",
    "n = 10\n",
    "img_name = filelist[:]\n",
    "\n",
    "print('Image name: {}'.format(img_name))"
   ]
  },
  {
   "cell_type": "code",
   "execution_count": 4,
   "metadata": {},
   "outputs": [],
   "source": [
    "class CostumeDataset(Dataset):\n",
    "    \"\"\"Costumes dataset.\"\"\"\n",
    "\n",
    "    def __init__(self, root_dir, transform=None):\n",
    "        \"\"\"\n",
    "        Args:\n",
    "            csv_file (string): Path to the csv file with annotations.\n",
    "            root_dir (string): Directory with all the images.\n",
    "            transform (callable, optional): Optional transform to be applied\n",
    "                on a sample.\n",
    "        \"\"\"\n",
    "        filelist = ['Amprite_sq.jpg','aphrodite_sq.jpg','athlete_square.jpg','Medium sized JPEG (10).jpg','Medium sized JPEG (12).jpg','Medium sized JPEG (13).jpg','Medium sized JPEG (4).jpg', 'Medium sized JPEG (7).jpg','Square_king.jpg','swans_square.jpg']\n",
    "        self.root_dir = root_dir\n",
    "        self.transform = transform\n",
    "\n",
    "    def __len__(self):\n",
    "        return len(filelist)\n",
    "        #include more\n",
    "        # this is just a test \n",
    "        #return len(self.)\n",
    "\n",
    "    def __getitem__(self, idx):\n",
    "        if torch.is_tensor(idx):\n",
    "            idx = idx.tolist()\n",
    "\n",
    "        img_name = os.path.join(self.root_dir,filelist[idx])\n",
    "        image = io.imread(img_name)\n",
    "        sample = {'image': image}\n",
    "\n",
    "        if self.transform:\n",
    "            sample = self.transform(sample)\n",
    "\n",
    "        return sample"
   ]
  },
  {
   "cell_type": "code",
   "execution_count": 1,
   "metadata": {},
   "outputs": [
    {
     "ename": "NameError",
     "evalue": "name 'CostumeDataset' is not defined",
     "output_type": "error",
     "traceback": [
      "\u001b[1;31m---------------------------------------------------------------------------\u001b[0m",
      "\u001b[1;31mNameError\u001b[0m                                 Traceback (most recent call last)",
      "\u001b[1;32m~\\AppData\\Local\\Temp/ipykernel_3172/424633906.py\u001b[0m in \u001b[0;36m<module>\u001b[1;34m\u001b[0m\n\u001b[1;32m----> 1\u001b[1;33m \u001b[0mcostume_dataset\u001b[0m \u001b[1;33m=\u001b[0m \u001b[0mCostumeDataset\u001b[0m\u001b[1;33m(\u001b[0m\u001b[0mroot_dir\u001b[0m\u001b[1;33m=\u001b[0m\u001b[1;34m''\u001b[0m\u001b[1;33m)\u001b[0m\u001b[1;33m\u001b[0m\u001b[1;33m\u001b[0m\u001b[0m\n\u001b[0m\u001b[0;32m      2\u001b[0m \u001b[1;33m\u001b[0m\u001b[0m\n\u001b[0;32m      3\u001b[0m \u001b[0mfig\u001b[0m \u001b[1;33m=\u001b[0m \u001b[0mplt\u001b[0m\u001b[1;33m.\u001b[0m\u001b[0mfigure\u001b[0m\u001b[1;33m(\u001b[0m\u001b[1;33m)\u001b[0m\u001b[1;33m\u001b[0m\u001b[1;33m\u001b[0m\u001b[0m\n\u001b[0;32m      4\u001b[0m \u001b[1;31m#this displays my images--- i know how to retrieve them :)\u001b[0m\u001b[1;33m\u001b[0m\u001b[1;33m\u001b[0m\u001b[0m\n\u001b[0;32m      5\u001b[0m \u001b[1;32mfor\u001b[0m \u001b[0mi\u001b[0m \u001b[1;32min\u001b[0m \u001b[0mrange\u001b[0m\u001b[1;33m(\u001b[0m\u001b[0mlen\u001b[0m\u001b[1;33m(\u001b[0m\u001b[0mcostume_dataset\u001b[0m\u001b[1;33m)\u001b[0m\u001b[1;33m)\u001b[0m\u001b[1;33m:\u001b[0m\u001b[1;33m\u001b[0m\u001b[1;33m\u001b[0m\u001b[0m\n",
      "\u001b[1;31mNameError\u001b[0m: name 'CostumeDataset' is not defined"
     ]
    }
   ],
   "source": [
    "\n",
    "costume_dataset = CostumeDataset(root_dir='')\n",
    "\n",
    "fig = plt.figure()\n",
    "#this displays my images--- i know how to retrieve them :)\n",
    "for i in range(len(costume_dataset)):\n",
    "    sample = costume_dataset[i]\n",
    "\n",
    "    \n",
    "    print(i, sample['image'].shape)\n",
    "    \n",
    "    #newly added --just trying to display the images\n",
    "    #honestly just trying to make sure I'm passing the right thing\n",
    "    #display(Image(sample['image']))\n",
    "    ax = plt.subplot(1, 4, i + 1)\n",
    "    plt.tight_layout()\n",
    "    plt.imshow(sample['image'])\n",
    "    ax.set_title('Sample #{}'.format(i))\n",
    "    ax.axis('off')\n",
    "\n",
    "    if i == 3:\n",
    "        plt.show()\n",
    "        break"
   ]
  },
  {
   "cell_type": "markdown",
   "metadata": {},
   "source": [
    "Create DataLoader---In other file??"
   ]
  },
  {
   "cell_type": "code",
   "execution_count": null,
   "metadata": {},
   "outputs": [],
   "source": []
  }
 ],
 "metadata": {
  "interpreter": {
   "hash": "65518f30a3ecf463641bbff51568eed8800a8b6475836389ae912c7fedafd608"
  },
  "kernelspec": {
   "display_name": "Python 3.9.9 64-bit",
   "language": "python",
   "name": "python3"
  },
  "language_info": {
   "codemirror_mode": {
    "name": "ipython",
    "version": 3
   },
   "file_extension": ".py",
   "mimetype": "text/x-python",
   "name": "python",
   "nbconvert_exporter": "python",
   "pygments_lexer": "ipython3",
   "version": "3.9.9"
  },
  "orig_nbformat": 4
 },
 "nbformat": 4,
 "nbformat_minor": 2
}
